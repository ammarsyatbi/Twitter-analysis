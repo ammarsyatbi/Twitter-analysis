{
 "cells": [
  {
   "cell_type": "code",
   "execution_count": 3,
   "metadata": {},
   "outputs": [],
   "source": [
    "import tweepy\n",
    "from tweepy import Stream\n",
    "from tweepy import OAuthHandler\n",
    "from tweepy.streaming import StreamListener\n",
    "import time\n",
    "import json\n",
    "import sqlite3\n",
    "import sys"
   ]
  },
  {
   "cell_type": "code",
   "execution_count": 4,
   "metadata": {},
   "outputs": [],
   "source": [
    "ckey=%env API_KEY\n",
    "csecret=%env API_SECRET_KEY\n",
    "atoken=%env ACCESS_TOKEN\n",
    "asecret= %env ACCESS_TOKEN_SECRET\n",
    "\n",
    "auth = OAuthHandler(ckey, csecret)\n",
    "auth.set_access_token(atoken, asecret)\n",
    "api = tweepy.API(auth)"
   ]
  },
  {
   "cell_type": "code",
   "execution_count": 88,
   "metadata": {},
   "outputs": [],
   "source": [
    "conn = sqlite3.connect('../data/streamingscrap.sqlite')\n",
    "conn.text_factory = str\n",
    "cur = conn.cursor()\n",
    "\n",
    "cur.execute('''DROP TABLE IF EXISTS Tweets ''')\n",
    "cur.execute('''CREATE TABLE IF NOT EXISTS Tweets\n",
    "                (id INTEGER PRIMARY KEY, tweet TEXT, username Text, language Text, location Text, tweet_date Text)''')\n",
    "\n",
    "\n",
    "def store_tweet_stream(item):\n",
    "    cur.execute('''INSERT OR IGNORE INTO Tweets \n",
    "                (tweet, username, language, location, tweet_date) \n",
    "                VALUES (?, ?, ?, ?, ?)''',\n",
    "                (item['tweet'], item['username'], item['language'], item['location'], item['tweet_date']))\n",
    "    \n",
    "    conn.commit()\n",
    "    \n",
    "def store_tweet_status(tweet):\n",
    "    cur.execute('''INSERT OR IGNORE INTO Tweets \n",
    "                (tweet, username, language, location, tweet_date) \n",
    "                VALUES (?, ?, ?, ?, ?)''',\n",
    "                (tweet, '', '', '', ''))\n",
    "    \n",
    "    conn.commit()\n",
    "    "
   ]
  },
  {
   "cell_type": "code",
   "execution_count": 84,
   "metadata": {},
   "outputs": [],
   "source": [
    "def to_item(data):\n",
    "    item = {}\n",
    "    item['tweet'] = data[\"text\"]\n",
    "    if 'retweeted_status' in data:\n",
    "        item['tweet'] = data['retweeted_status']['extended_tweet'][\"full_text\"]\n",
    "    elif 'extended_tweet' in data:\n",
    "        item['tweet'] = data['extended_tweet'][\"full_text\"]\n",
    "\n",
    "    item['username'] = data[\"user\"][\"screen_name\"]\n",
    "    item['language'] = data[\"lang\"]\n",
    "    item['location'] = data[\"user\"][\"location\"]\n",
    "    item['tweet_date'] = data['created_at']\n",
    "    \n",
    "    return item\n",
    "    "
   ]
  },
  {
   "cell_type": "code",
   "execution_count": 55,
   "metadata": {},
   "outputs": [],
   "source": [
    "class listener(StreamListener):\n",
    "\n",
    "    def on_data(self, data):\n",
    "        item = to_item(json.loads(data))\n",
    "        store_tweet(item)\n",
    "        \n",
    "        print(f\"- {item} \\n\")\n",
    "\n",
    "        return True\n",
    "\n",
    "    def on_error(self, status):\n",
    "        print(status)\n",
    "        if status == 420:\n",
    "            # returning False in on_data disconnects the stream\n",
    "            return False"
   ]
  },
  {
   "cell_type": "code",
   "execution_count": 38,
   "metadata": {},
   "outputs": [
    {
     "name": "stderr",
     "output_type": "stream",
     "text": [
      "Exception in thread Thread-6:\n",
      "Traceback (most recent call last):\n",
      "  File \"/usr/lib/python3.7/threading.py\", line 926, in _bootstrap_inner\n",
      "    self.run()\n",
      "  File \"/usr/lib/python3.7/threading.py\", line 870, in run\n",
      "    self._target(*self._args, **self._kwargs)\n",
      "  File \"/home/mars/.local/share/virtualenvs/Twitter-analysis-3oML7yVh/lib/python3.7/site-packages/tweepy/streaming.py\", line 320, in _run\n",
      "    six.reraise(*exc_info)\n",
      "  File \"/home/mars/.local/share/virtualenvs/Twitter-analysis-3oML7yVh/lib/python3.7/site-packages/six.py\", line 693, in reraise\n",
      "    raise value\n",
      "  File \"/home/mars/.local/share/virtualenvs/Twitter-analysis-3oML7yVh/lib/python3.7/site-packages/tweepy/streaming.py\", line 289, in _run\n",
      "    self._read_loop(resp)\n",
      "  File \"/home/mars/.local/share/virtualenvs/Twitter-analysis-3oML7yVh/lib/python3.7/site-packages/tweepy/streaming.py\", line 351, in _read_loop\n",
      "    self._data(next_status_obj)\n",
      "  File \"/home/mars/.local/share/virtualenvs/Twitter-analysis-3oML7yVh/lib/python3.7/site-packages/tweepy/streaming.py\", line 323, in _data\n",
      "    if self.listener.on_data(data) is False:\n",
      "  File \"<ipython-input-36-94fbcfd28905>\", line 19, in on_data\n",
      "    cur.execute('INSERT OR IGNORE INTO Tweets (tweet, username, language, location, tweet_date) VALUES (?, ?, ?, ?, ?)', (tweet, username, language, location, tweet_date) )\n",
      "sqlite3.ProgrammingError: SQLite objects created in a thread can only be used in that same thread. The object was created in thread id 140621088704320 and this is thread id 140620394940160.\n",
      "\n"
     ]
    }
   ],
   "source": [
    "twitterStream = Stream(auth, listener(), tweet_mode=\"extended\")\n",
    "\n",
    "#screenname is not mandatory\n",
    "streaming_screen_name=\"MarStebi\"\n",
    "twitterStream.filter(follow=[str(api.get_user(screen_name = streaming_screen_name).id)],\n",
    "                     track=['test'],\n",
    "                     is_async=True)\n",
    "\n"
   ]
  },
  {
   "cell_type": "code",
   "execution_count": 40,
   "metadata": {},
   "outputs": [],
   "source": [
    "#to end streamming\n",
    "twitterStream.disconnect()\n"
   ]
  },
  {
   "cell_type": "code",
   "execution_count": 78,
   "metadata": {},
   "outputs": [],
   "source": [
    "def get_status_tweet(status):\n",
    "    if hasattr(status, \"retweeted_status\"):  # Check if Retweet\n",
    "        try:\n",
    "            return status.retweeted_status.extended_tweet[\"full_text\"]\n",
    "        except AttributeError:\n",
    "            return status.retweeted_status.text\n",
    "    else:\n",
    "        try:\n",
    "            return status.extended_tweet[\"full_text\"]\n",
    "        except AttributeError:\n",
    "            return status.text"
   ]
  },
  {
   "cell_type": "code",
   "execution_count": 85,
   "metadata": {},
   "outputs": [],
   "source": [
    "# by user timeline\n",
    "for status in tweepy.Cursor(api.user_timeline, id=\"izzatamar\").items(2):\n",
    "    store_tweet_status(get_status_tweet(status))"
   ]
  },
  {
   "cell_type": "code",
   "execution_count": 92,
   "metadata": {},
   "outputs": [
    {
     "name": "stdout",
     "output_type": "stream",
     "text": [
      "Media Release: Robbery - Male Arrested for Robbery in Niagara Falls  - https://t.co/SApMXRbYqN\n",
      "@NzStill https://t.co/Cd32actqvJ  Look at at the Snakes of SATAN  55 \n",
      "55 = same same  insated of gods numer 10 redu… https://t.co/lK4chItuog\n",
      "@WalkerBragman @mhnsn_ @HoarseWisperer UPDATE: \"RICH white male privilege\"\n",
      "\n",
      "https://t.co/UhZli14crh\n",
      "\n",
      "@Alyssa_Milano @PattyArquette\n",
      "@WalkerBragman @mhnsn_ @HoarseWisperer UPDATE: \"RICH white male privilege\"\n",
      "\n",
      "https://t.co/UhZli14crh\n",
      "\n",
      "@Alyssa_Milano @PattyArquette\n",
      "Male involved in suspicious incident involving a child has been identified https://t.co/DBKvjEVxdD\n",
      "\n",
      "L’individu mêlé… https://t.co/jWLackp4EG\n",
      "Male involved in suspicious incident involving a child has been identified https://t.co/DBKvjEVxdD\n",
      "\n",
      "L’individu mêlé… https://t.co/jWLackp4EG\n"
     ]
    }
   ],
   "source": [
    "# by query\n",
    "for status in tweepy.Cursor(api.search, q=\"\", lang=\"EN\").items(20):\n",
    "    print(get_status_tweet(status))"
   ]
  },
  {
   "cell_type": "code",
   "execution_count": null,
   "metadata": {},
   "outputs": [],
   "source": [
    "cur.close()"
   ]
  }
 ],
 "metadata": {
  "kernelspec": {
   "display_name": "Python 3",
   "language": "python",
   "name": "python3"
  },
  "language_info": {
   "codemirror_mode": {
    "name": "ipython",
    "version": 3
   },
   "file_extension": ".py",
   "mimetype": "text/x-python",
   "name": "python",
   "nbconvert_exporter": "python",
   "pygments_lexer": "ipython3",
   "version": "3.7.5"
  }
 },
 "nbformat": 4,
 "nbformat_minor": 2
}
