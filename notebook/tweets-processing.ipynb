{
 "cells": [
  {
   "cell_type": "code",
   "execution_count": 2,
   "metadata": {},
   "outputs": [],
   "source": [
    "import re\n",
    "import sqlite3\n",
    "import csv"
   ]
  },
  {
   "cell_type": "code",
   "execution_count": 3,
   "metadata": {},
   "outputs": [],
   "source": [
    "def cleanUrl(tweet):\n",
    "    filter = re.search('http(.+?)$', tweet)\n",
    "    if filter != None:\n",
    "        while filter != None:\n",
    "            url = 'http' + filter.group(1)\n",
    "            if ' ' in url:\n",
    "                filter = re.search('http(.+?) ', tweet)\n",
    "                url = 'http' + filter.group(1)+' '\n",
    "            tweet = tweet.replace(url,' ')\n",
    "            #print(\"Delete : \" + url + \"\\nCleaned : \" + tweet)\n",
    "            filter = re.search('http(.+?)$', tweet)\n",
    "\n",
    "        return tweet\n",
    "    else:\n",
    "        return tweet\n",
    "\n",
    "def remove_unicode(tweet):\n",
    "    filter = re.search(r'\\\\u(.+?)$', tweet)\n",
    "    if filter != None:\n",
    "        while filter != None:\n",
    "            url = '\\\\u' + filter.group(1)\n",
    "            if ' ' in url:\n",
    "                filter = re.search(r'\\\\u(.+?) ', tweet)\n",
    "                url = '\\\\u' + filter.group(1) + ' '\n",
    "            tweet = tweet.replace(url, ' ')\n",
    "            # print(\"Delete : \" + url + \"\\nCleaned : \" + tweet)\n",
    "            filter = re.search(r'\\\\u(.+?)$', tweet)\n",
    "\n",
    "        return tweet\n",
    "    else:\n",
    "        return tweet\n",
    "\n",
    "#by HuseinZol\n",
    "def filter_emoji(in_str):\n",
    "    emoji_pattern = re.compile(\"[\"\n",
    "    u\"\\U0001F600-\\U0001F64F\"  # emoticons\n",
    "    u\"\\U0001F300-\\U0001F5FF\"  # symbols & pictographs\n",
    "    u\"\\U0001F680-\\U0001F6FF\"  # transport & map symbols\n",
    "    u\"\\U0001F1E0-\\U0001F1FF\"  # flags (iOS)\n",
    "    u\"\\U00010000-\\U0001FFFF\" # others\n",
    "    u\"\\u2705\"\n",
    "                       \"]+\", flags=re.UNICODE)\n",
    "    return emoji_pattern.sub(r'', in_str)"
   ]
  },
  {
   "cell_type": "code",
   "execution_count": 4,
   "metadata": {},
   "outputs": [],
   "source": [
    "conn = sqlite3.connect('../data/streamingscrap.sqlite')\n",
    "curs = conn.cursor()\n",
    "query = 'SELECT * FROM Tweets;'\n",
    "rows = curs.execute(query)\n",
    "rows = rows.fetchall()"
   ]
  },
  {
   "cell_type": "code",
   "execution_count": 6,
   "metadata": {},
   "outputs": [
    {
     "name": "stdout",
     "output_type": "stream",
     "text": [
      "Stayback v29.3c\n",
      "Im surprised that i havent been disciplined or anything after fucking up so much\n"
     ]
    }
   ],
   "source": [
    "with open('../data/twittercleaned.csv', 'w', newline='', encoding='utf-8') as csvfile:\n",
    "    fieldnames = ['id', 'twitter']\n",
    "    writer = csv.DictWriter(csvfile, fieldnames=fieldnames)\n",
    "\n",
    "    writer.writeheader()\n",
    "    for row in rows:\n",
    "        tweets = str(row[1])\n",
    "        tweets = tweets.replace('\\n', ' ')\n",
    "        id = str(row[0])\n",
    "        row1 = id\n",
    "        row2 = filter_emoji(cleanUrl(tweets))\n",
    "        print(row2)\n",
    "        writer.writerow({'id': row1, 'twitter': row2})\n"
   ]
  },
  {
   "cell_type": "code",
   "execution_count": null,
   "metadata": {},
   "outputs": [],
   "source": []
  }
 ],
 "metadata": {
  "kernelspec": {
   "display_name": "Python 3",
   "language": "python",
   "name": "python3"
  },
  "language_info": {
   "codemirror_mode": {
    "name": "ipython",
    "version": 3
   },
   "file_extension": ".py",
   "mimetype": "text/x-python",
   "name": "python",
   "nbconvert_exporter": "python",
   "pygments_lexer": "ipython3",
   "version": "3.7.5"
  }
 },
 "nbformat": 4,
 "nbformat_minor": 2
}
